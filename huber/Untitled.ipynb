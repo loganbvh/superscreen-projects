{
 "cells": [
  {
   "cell_type": "code",
   "execution_count": 1,
   "id": "2fdf029f",
   "metadata": {},
   "outputs": [
    {
     "ename": "ModuleNotFoundError",
     "evalue": "No module named 'small_susc'",
     "output_type": "error",
     "traceback": [
      "\u001b[0;31m---------------------------------------------------------------------------\u001b[0m",
      "\u001b[0;31mModuleNotFoundError\u001b[0m                       Traceback (most recent call last)",
      "\u001b[0;32m<ipython-input-1-b50cea08628f>\u001b[0m in \u001b[0;36m<module>\u001b[0;34m\u001b[0m\n\u001b[1;32m     12\u001b[0m \u001b[0;32mimport\u001b[0m \u001b[0msuperscreen\u001b[0m \u001b[0;32mas\u001b[0m \u001b[0msc\u001b[0m\u001b[0;34m\u001b[0m\u001b[0;34m\u001b[0m\u001b[0m\n\u001b[1;32m     13\u001b[0m \u001b[0;34m\u001b[0m\u001b[0m\n\u001b[0;32m---> 14\u001b[0;31m \u001b[0;32mfrom\u001b[0m \u001b[0msmall_susc\u001b[0m \u001b[0;32mimport\u001b[0m \u001b[0mmake_layout_small_susc\u001b[0m\u001b[0;34m\u001b[0m\u001b[0;34m\u001b[0m\u001b[0m\n\u001b[0m",
      "\u001b[0;31mModuleNotFoundError\u001b[0m: No module named 'small_susc'"
     ]
    }
   ],
   "source": [
    "%config InlineBackend.figure_formats = {\"retina\", \"png\"}\n",
    "# %matplotlib notebook\n",
    "\n",
    "import logging\n",
    "logging.basicConfig(level=logging.INFO)\n",
    "\n",
    "import numpy as np\n",
    "import pandas as pd\n",
    "import matplotlib.pyplot as plt\n",
    "plt.rcParams[\"font.size\"] = 14\n",
    "\n",
    "import superscreen as sc\n",
    "\n",
    "from small_susc import make_layout_small_susc"
   ]
  },
  {
   "cell_type": "code",
   "execution_count": null,
   "id": "1d000cd4",
   "metadata": {},
   "outputs": [],
   "source": [
    "def ibm_field_coil(interp_points=None):\n",
    "    squid = make_layout_small_susc()\n",
    "    \n",
    "    return sc.Device(\n",
    "        \"ibm_field_coil\",\n",
    "        layers=[squid.layers[\"BE\"]],\n",
    "        films=[squid.films[\"fc\"]],\n",
    "        holes=[squid.holes[\"fc_center\"]],\n",
    "        abstract_regions=[squid.abstract_regions[\"bounding_box\"]],\n",
    "        length_units=squid.length_units,\n",
    "    )\n",
    "\n",
    "def ibm_without_field_coil():\n",
    "    squid = make_layout_small_susc()\n",
    "    \n",
    "    layers = squid.layers\n",
    "    _ = layers.pop(\"BE\")\n",
    "    films = squid.films\n",
    "    _ = films.pop(\"fc\")\n",
    "    # _ = films.pop(\"fc_shield\", None)\n",
    "    holes = squid.holes\n",
    "    _ = holes.pop(\"fc_center\")\n",
    "    \n",
    "    return sc.Device(\n",
    "        \"ibm_without_field_coil\",\n",
    "        layers=layers,\n",
    "        films=films,\n",
    "        holes=holes,\n",
    "        abstract_regions=squid.abstract_regions,\n",
    "        length_units=squid.length_units,\n",
    "    )"
   ]
  },
  {
   "cell_type": "code",
   "execution_count": 2,
   "id": "30466541",
   "metadata": {},
   "outputs": [
    {
     "ename": "NameError",
     "evalue": "name 'ibm_without_field_coil' is not defined",
     "output_type": "error",
     "traceback": [
      "\u001b[0;31m---------------------------------------------------------------------------\u001b[0m",
      "\u001b[0;31mNameError\u001b[0m                                 Traceback (most recent call last)",
      "\u001b[0;32m<ipython-input-2-d6fdfbf04c34>\u001b[0m in \u001b[0;36m<module>\u001b[0;34m\u001b[0m\n\u001b[0;32m----> 1\u001b[0;31m \u001b[0msquid\u001b[0m \u001b[0;34m=\u001b[0m \u001b[0mibm_without_field_coil\u001b[0m\u001b[0;34m(\u001b[0m\u001b[0;34m)\u001b[0m\u001b[0;34m\u001b[0m\u001b[0;34m\u001b[0m\u001b[0m\n\u001b[0m\u001b[1;32m      2\u001b[0m \u001b[0msquid\u001b[0m\u001b[0;34m.\u001b[0m\u001b[0mmake_mesh\u001b[0m\u001b[0;34m(\u001b[0m\u001b[0mmin_triangles\u001b[0m\u001b[0;34m=\u001b[0m\u001b[0;36m10000\u001b[0m\u001b[0;34m,\u001b[0m \u001b[0moptimesh_steps\u001b[0m\u001b[0;34m=\u001b[0m\u001b[0;36m200\u001b[0m\u001b[0;34m)\u001b[0m\u001b[0;34m\u001b[0m\u001b[0;34m\u001b[0m\u001b[0m\n",
      "\u001b[0;31mNameError\u001b[0m: name 'ibm_without_field_coil' is not defined"
     ]
    }
   ],
   "source": [
    "squid = ibm_without_field_coil()\n",
    "squid.make_mesh(min_triangles=10000, optimesh_steps=200)"
   ]
  },
  {
   "cell_type": "code",
   "execution_count": null,
   "id": "1c6b2882",
   "metadata": {},
   "outputs": [],
   "source": []
  }
 ],
 "metadata": {
  "kernelspec": {
   "display_name": "Python 3",
   "language": "python",
   "name": "python3"
  },
  "language_info": {
   "codemirror_mode": {
    "name": "ipython",
    "version": 3
   },
   "file_extension": ".py",
   "mimetype": "text/x-python",
   "name": "python",
   "nbconvert_exporter": "python",
   "pygments_lexer": "ipython3",
   "version": "3.9.5"
  }
 },
 "nbformat": 4,
 "nbformat_minor": 5
}
