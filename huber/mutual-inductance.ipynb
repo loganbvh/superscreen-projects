{
 "cells": [
  {
   "cell_type": "code",
   "execution_count": null,
   "id": "759b4f1f",
   "metadata": {},
   "outputs": [],
   "source": [
    "%config InlineBackend.figure_formats = {\"retina\", \"png\"}\n",
    "# %matplotlib notebook\n",
    "\n",
    "import logging\n",
    "logging.basicConfig(level=logging.INFO)\n",
    "\n",
    "import numpy as np\n",
    "import pandas as pd\n",
    "import matplotlib.pyplot as plt\n",
    "plt.rcParams[\"font.size\"] = 14\n",
    "\n",
    "import superscreen as sc\n",
    "\n",
    "from huber_squid import huber_squid, huber_geometry"
   ]
  },
  {
   "cell_type": "code",
   "execution_count": null,
   "id": "d9bb785e",
   "metadata": {},
   "outputs": [],
   "source": [
    "device = huber_squid(151)"
   ]
  },
  {
   "cell_type": "code",
   "execution_count": null,
   "id": "8f7ad629",
   "metadata": {},
   "outputs": [],
   "source": [
    "device.make_mesh(min_triangles=12000, optimesh_steps=200)"
   ]
  },
  {
   "cell_type": "code",
   "execution_count": null,
   "id": "b0815941",
   "metadata": {},
   "outputs": [],
   "source": [
    "ax = device.plot_mesh()\n",
    "ax = device.plot_polygons(ax=ax, color='k', lw=2, legend=False)\n",
    "_ = ax.set_title(\n",
    "    f\"Mesh: {device.points.shape[0]} points, \"\n",
    "    f\"{device.triangles.shape[0]} triangles\"\n",
    ")\n",
    "ax.figure.set_size_inches(8,8)"
   ]
  },
  {
   "cell_type": "code",
   "execution_count": null,
   "id": "096ce19c",
   "metadata": {
    "scrolled": true
   },
   "outputs": [],
   "source": [
    "applied_field = sc.sources.ConstantField(0.0)\n",
    "\n",
    "circulating_currents = {\n",
    "    \"fc_center\": \"1 mA\"\n",
    "}\n",
    "\n",
    "solutions = sc.solve(\n",
    "    device=device,\n",
    "    applied_field=applied_field,\n",
    "    circulating_currents=circulating_currents,\n",
    "    field_units=\"Phi_0/um**2\",\n",
    "    current_units=\"uA\",\n",
    "    iterations=11,\n",
    "    coupled=True,\n",
    ")\n",
    "solution = solutions[-1]"
   ]
  },
  {
   "cell_type": "code",
   "execution_count": null,
   "id": "e049ccf0",
   "metadata": {},
   "outputs": [],
   "source": [
    "records = []\n",
    "for s in solutions:\n",
    "    records.append(s.polygon_flux(units=\"Phi_0\", with_units=False))\n",
    "df = pd.DataFrame.from_records(records)\n",
    "df.index.name = \"Iteration\""
   ]
  },
  {
   "cell_type": "code",
   "execution_count": null,
   "id": "137d503d",
   "metadata": {},
   "outputs": [],
   "source": [
    "display(df)"
   ]
  },
  {
   "cell_type": "code",
   "execution_count": null,
   "id": "5ddb7435",
   "metadata": {},
   "outputs": [],
   "source": [
    "fig, ax = plt.subplots(figsize=(8,6))\n",
    "ax.grid(True)\n",
    "for col in df.columns:\n",
    "    ys = df[col].values\n",
    "    ys = np.abs(np.diff(ys))[1:] / np.abs(ys)[1:-1]\n",
    "    ax.plot(np.arange(len(ys)) + 1, ys, 'o--', label=col)\n",
    "ax.set_ylabel(\"Fractional change in flux\\n$(\\\\Phi_{(i)} -\\\\Phi_{(i-1)}) / \\\\Phi_{(i-1)}$\", fontsize=14)\n",
    "ax.set_xlabel(\"Iteration\", fontsize=14)\n",
    "ax.set_yscale(\"log\")\n",
    "ax.set_xticks(np.arange(len(ys)) + 1)\n",
    "ax.legend(loc=0)\n",
    "ax.set_title(\"Convergence of calculated flux\")\n",
    "fig.tight_layout()"
   ]
  },
  {
   "cell_type": "code",
   "execution_count": null,
   "id": "9caedca1",
   "metadata": {},
   "outputs": [],
   "source": [
    "flux = solutions[-1].polygon_flux()\n",
    "I_circ = device.ureg(circulating_currents['fc_center'])\n",
    "# print(f\"{flux['pl_hull'].to('Phi_0'):.3e~P}\")\n",
    "print(\n",
    "    f\"Calculated FC - PL mutual inductance:\"\n",
    "    f\"\\n\\t{(flux['pl_hull'] / I_circ).to('Phi_0/A'):.3f~P} = \"\n",
    "    f\"{(flux['pl_hull'] / I_circ).to('pH'):.3f~P}\"\n",
    ")"
   ]
  },
  {
   "cell_type": "code",
   "execution_count": null,
   "id": "7232b167",
   "metadata": {
    "scrolled": false
   },
   "outputs": [],
   "source": [
    "for solution in solutions[-3:]:\n",
    "    fig, axes = sc.plot_fields(\n",
    "        solution,\n",
    "        layers=[\"W1\", \"W2\"],\n",
    "        units=\"Phi_0/um**2\",\n",
    "        cmap=\"coolwarm\",\n",
    "        figsize=(9,5),\n",
    "        grid_shape=(1000, 1000),\n",
    "        cross_section_xs=0,\n",
    "        cross_section_angle=0,\n",
    "        vmin=-0.3/2, vmax=0.3/2,\n",
    "    )\n",
    "    for ax in axes:\n",
    "        device.plot_polygons(ax=ax, legend=False, color='k', lw=0.75)"
   ]
  },
  {
   "cell_type": "code",
   "execution_count": null,
   "id": "6bcad3f1",
   "metadata": {
    "scrolled": false
   },
   "outputs": [],
   "source": [
    "for solution in solutions[-3:]:\n",
    "    fig, axes = sc.plot_currents(\n",
    "        solution,\n",
    "        figsize=(13, 5),\n",
    "        streamplot=False,\n",
    "        units=\"mA/um\",\n",
    "        cmap=\"inferno\",\n",
    "        cross_section_xs=0,\n",
    "        cross_section_angle=0,\n",
    "    )\n",
    "    for ax in axes:\n",
    "        device.plot_polygons(ax=ax, legend=False, color='w', lw=0.75, alpha=0.75)"
   ]
  },
  {
   "cell_type": "code",
   "execution_count": null,
   "id": "3c324df8",
   "metadata": {},
   "outputs": [],
   "source": [
    "img = plt.imread(\"huber-image.png\")\n",
    "scale = np.where(img[385][:,0] == 1)[0].size / 5 # pixels per micron\n",
    "\n",
    "origin = x0, y0 = (465, 610)"
   ]
  },
  {
   "cell_type": "code",
   "execution_count": null,
   "id": "b6eaf147",
   "metadata": {},
   "outputs": [],
   "source": [
    "polygons = {\n",
    "    name: scale * sc.geometry.rotate(points, 0)\n",
    "    for name, points in huber_geometry(interp_points=101).items()\n",
    "}"
   ]
  },
  {
   "cell_type": "code",
   "execution_count": null,
   "id": "3831c310",
   "metadata": {},
   "outputs": [],
   "source": [
    "fig, ax = plt.subplots(figsize=(6,6))\n",
    "ax.set_aspect(\"equal\")\n",
    "im = ax.imshow(img[:-200])\n",
    "ax.set_yticks([])\n",
    "ax.set_xticks([])\n",
    "\n",
    "for name, points in polygons.items():\n",
    "    if name in [\"pl_hull\", \"fc_shield\"]:\n",
    "        continue\n",
    "    xs, ys = points.T\n",
    "    xs = -xs\n",
    "    xs = xs + x0\n",
    "    ys = ys + y0\n",
    "    ax.plot(xs, ys, color='w', alpha=0.8, lw=2)\n",
    "    \n",
    "_ = ax.set_xlim(0, img.shape[1]-1)"
   ]
  },
  {
   "cell_type": "code",
   "execution_count": null,
   "id": "c21d0fe4",
   "metadata": {},
   "outputs": [],
   "source": []
  }
 ],
 "metadata": {
  "kernelspec": {
   "display_name": "Python 3",
   "language": "python",
   "name": "python3"
  },
  "language_info": {
   "codemirror_mode": {
    "name": "ipython",
    "version": 3
   },
   "file_extension": ".py",
   "mimetype": "text/x-python",
   "name": "python",
   "nbconvert_exporter": "python",
   "pygments_lexer": "ipython3",
   "version": "3.9.5"
  }
 },
 "nbformat": 4,
 "nbformat_minor": 5
}
