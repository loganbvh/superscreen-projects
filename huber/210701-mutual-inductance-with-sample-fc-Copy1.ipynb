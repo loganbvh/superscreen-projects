{
 "cells": [
  {
   "cell_type": "code",
   "execution_count": 1,
   "id": "759b4f1f",
   "metadata": {},
   "outputs": [],
   "source": [
    "%config InlineBackend.figure_formats = {\"retina\", \"png\"}\n",
    "# %matplotlib notebook\n",
    "\n",
    "# import logging\n",
    "# logging.basicConfig(level=logging.INFO)\n",
    "\n",
    "import numpy as np\n",
    "import pandas as pd\n",
    "import matplotlib.pyplot as plt\n",
    "plt.rcParams[\"font.size\"] = 14\n",
    "\n",
    "import superscreen as sc\n",
    "\n",
    "from huber_squid import huber_squid, huber_geometry"
   ]
  },
  {
   "cell_type": "code",
   "execution_count": 2,
   "id": "8bc16e61",
   "metadata": {},
   "outputs": [
    {
     "data": {
      "text/plain": [
       "{'SuperScreen': '0.1.1',\n",
       " 'Numpy': '1.21.0',\n",
       " 'SciPy': '1.7.0',\n",
       " 'matplotlib': '3.4.2',\n",
       " 'ray': '1.4.1',\n",
       " 'IPython': '7.25.0',\n",
       " 'Python': '3.9.5 (default, May 18 2021, 14:42:02) [MSC v.1916 64 bit (AMD64)]',\n",
       " 'OS': 'nt [win32]',\n",
       " 'Number of CPUs': 4,\n",
       " 'BLAS Info': 'OPENBLAS'}"
      ]
     },
     "execution_count": 2,
     "metadata": {},
     "output_type": "execute_result"
    }
   ],
   "source": [
    "sc.about.version_dict()"
   ]
  },
  {
   "cell_type": "code",
   "execution_count": 3,
   "id": "9606e909",
   "metadata": {},
   "outputs": [
    {
     "data": {
      "text/html": [
       "<table><tr><th>Software</th><th>Version</th></tr><tr><td>SuperScreen</td><td>0.1.1</td></tr><tr><td>Numpy</td><td>1.21.0</td></tr><tr><td>SciPy</td><td>1.7.0</td></tr><tr><td>matplotlib</td><td>3.4.2</td></tr><tr><td>ray</td><td>1.4.1</td></tr><tr><td>IPython</td><td>7.25.0</td></tr><tr><td>Python</td><td>3.9.5 (default, May 18 2021, 14:42:02) [MSC v.1916 64 bit (AMD64)]</td></tr><tr><td>OS</td><td>nt [win32]</td></tr><tr><td>Number of CPUs</td><td>4</td></tr><tr><td>BLAS Info</td><td>OPENBLAS</td></tr><tr><td colspan='2'>Mon Jul 12 12:51:59 2021 Central Daylight Time</td></tr></table>"
      ],
      "text/plain": [
       "<IPython.core.display.HTML object>"
      ]
     },
     "execution_count": 3,
     "metadata": {},
     "output_type": "execute_result"
    }
   ],
   "source": [
    "sc.about.version_table()"
   ]
  },
  {
   "cell_type": "code",
   "execution_count": null,
   "id": "788f04db",
   "metadata": {},
   "outputs": [],
   "source": [
    "import time\n",
    "\n",
    "t0 = time.time()"
   ]
  },
  {
   "cell_type": "code",
   "execution_count": null,
   "id": "395eb057",
   "metadata": {},
   "outputs": [],
   "source": [
    "def huber_field_coil():\n",
    "    squid = huber_squid()\n",
    "    \n",
    "    return sc.Device(\n",
    "        \"huber_field_coil\",\n",
    "        layers=[squid.layers[\"BE\"]],\n",
    "        films=[squid.films[\"fc\"]],\n",
    "        holes=[squid.holes[\"fc_center\"]],\n",
    "        abstract_regions=[squid.abstract_regions[\"bounding_box\"]],\n",
    "        length_units=squid.length_units,\n",
    "    )\n",
    "\n",
    "def huber_without_field_coil():\n",
    "    squid = huber_squid()\n",
    "    \n",
    "    layers = squid.layers\n",
    "    _ = layers.pop(\"BE\")\n",
    "    films = squid.films\n",
    "    _ = films.pop(\"fc\")\n",
    "    # _ = films.pop(\"fc_shield\", None)\n",
    "    holes = squid.holes\n",
    "    _ = holes.pop(\"fc_center\")\n",
    "    \n",
    "    return sc.Device(\n",
    "        \"huber_without_field_coil\",\n",
    "        layers=layers,\n",
    "        films=films,\n",
    "        holes=holes,\n",
    "        abstract_regions=squid.abstract_regions,\n",
    "        length_units=squid.length_units,\n",
    "    )"
   ]
  },
  {
   "cell_type": "code",
   "execution_count": null,
   "id": "cb8185e1",
   "metadata": {},
   "outputs": [],
   "source": [
    "sample_points = np.array(\n",
    "    [\n",
    "        [-12.0, -15.0],\n",
    "        [-12.0,  12.0],\n",
    "        [ 15.0,  12.0],\n",
    "        [ 15.0, -15.0],\n",
    "    ]\n",
    ")\n",
    "\n",
    "sample_height = -1.0\n",
    "\n",
    "min_triangles = 8000"
   ]
  },
  {
   "cell_type": "code",
   "execution_count": null,
   "id": "398915f1",
   "metadata": {},
   "outputs": [],
   "source": [
    "field_coil = huber_field_coil()\n",
    "\n",
    "abstract_regions = field_coil.abstract_regions\n",
    "abstract_regions[\"bounding_box\"] = sc.Polygon(\n",
    "    \"bounding_box\",\n",
    "    layer=abstract_regions[\"bounding_box\"].layer,\n",
    "    points=sample_points,\n",
    ")\n",
    "\n",
    "field_coil.abstract_regions = abstract_regions"
   ]
  },
  {
   "cell_type": "code",
   "execution_count": null,
   "id": "e3348f6c",
   "metadata": {},
   "outputs": [],
   "source": [
    "field_coil.make_mesh(min_triangles=min_triangles, optimesh_steps=200)"
   ]
  },
  {
   "cell_type": "code",
   "execution_count": null,
   "id": "e4debaa7",
   "metadata": {},
   "outputs": [],
   "source": [
    "ax = field_coil.plot_mesh()\n",
    "ax = field_coil.plot_polygons(ax=ax, color='k', lw=3, legend=False)\n",
    "_ = ax.set_title(\n",
    "    f\"Mesh: {field_coil.points.shape[0]} points, \"\n",
    "    f\"{field_coil.triangles.shape[0]} triangles\"\n",
    ")\n",
    "ax.figure.set_size_inches(8,8)"
   ]
  },
  {
   "cell_type": "code",
   "execution_count": null,
   "id": "197bb127",
   "metadata": {
    "scrolled": true
   },
   "outputs": [],
   "source": [
    "t0 = time.time()\n",
    "\n",
    "for _ in range(16):\n",
    "    applied_field = sc.sources.ConstantField(0.0)\n",
    "\n",
    "    circulating_currents = {\n",
    "        \"fc_center\": \"1 mA\"\n",
    "    }\n",
    "\n",
    "    solutions = sc.solve(\n",
    "        device=field_coil,\n",
    "        applied_field=applied_field,\n",
    "        circulating_currents=circulating_currents,\n",
    "        field_units=\"Phi_0/um**2\",\n",
    "        current_units=\"uA\",\n",
    "        iterations=6,\n",
    "        coupled=True,\n",
    "    )\n",
    "    field_coil_solution = solutions[-1]\n",
    "    \n",
    "print(f\"Elapsed time: {time.time() - t0:.3f} seconds\")"
   ]
  },
  {
   "cell_type": "code",
   "execution_count": null,
   "id": "ae85c8d5",
   "metadata": {},
   "outputs": [],
   "source": [
    "fig, axes = sc.plot_currents(\n",
    "    field_coil_solution,\n",
    "    figsize=(5,6),\n",
    "    streamplot=True,\n",
    "    units=\"mA/um\",\n",
    "    cross_section_xs=0,\n",
    "    cross_section_angle=0,\n",
    ")\n",
    "for ax in axes:\n",
    "    field_coil.plot_polygons(ax=ax, legend=False, color='w', lw=0.75, alpha=0.75)"
   ]
  },
  {
   "cell_type": "code",
   "execution_count": null,
   "id": "3df2e6b9",
   "metadata": {},
   "outputs": [],
   "source": [
    "t0 = time.time()\n",
    "\n",
    "circulating_currents = [{\"fc_center\": f\"1 mA\"} for _ in range(16)]\n",
    "\n",
    "solutions, paths = sc.solve_many(\n",
    "    parallel_method=None,\n",
    "    device=field_coil,\n",
    "    directory=None,\n",
    "    return_solutions=False,\n",
    "    keep_only_final_solution=True,\n",
    "    applied_fields=applied_field,\n",
    "    circulating_currents=circulating_currents,\n",
    "    field_units=\"Phi_0/um**2\",\n",
    "    current_units=\"uA\",\n",
    "    iterations=6,\n",
    "    coupled=True,\n",
    ")\n",
    "\n",
    "print(f\"Elapsed time: {time.time() - t0:.3f} seconds\")"
   ]
  },
  {
   "cell_type": "code",
   "execution_count": null,
   "id": "038e8243",
   "metadata": {},
   "outputs": [],
   "source": [
    "t0 = time.time()\n",
    "\n",
    "circulating_currents = [{\"fc_center\": f\"1 mA\"} for _ in range(16)]\n",
    "\n",
    "solutions, paths = sc.solve_many(\n",
    "    parallel_method=\"mp\",\n",
    "    device=field_coil,\n",
    "    directory=None,\n",
    "    return_solutions=False,\n",
    "    keep_only_final_solution=True,\n",
    "    applied_fields=applied_field,\n",
    "    circulating_currents=circulating_currents,\n",
    "    field_units=\"Phi_0/um**2\",\n",
    "    current_units=\"uA\",\n",
    "    iterations=6,\n",
    "    coupled=True,\n",
    ")\n",
    "\n",
    "print(f\"Elapsed time: {time.time() - t0:.3f} seconds\")"
   ]
  },
  {
   "cell_type": "code",
   "execution_count": null,
   "id": "e3522c61",
   "metadata": {},
   "outputs": [],
   "source": [
    "import ray\n",
    "ray.init()"
   ]
  },
  {
   "cell_type": "code",
   "execution_count": null,
   "id": "1350e849",
   "metadata": {},
   "outputs": [],
   "source": [
    "t0 = time.time()\n",
    "\n",
    "circulating_currents = [{\"fc_center\": f\"1 mA\"} for _ in range(16)]\n",
    "\n",
    "solutions, paths = sc.solve_many(\n",
    "    parallel_method=\"ray\",\n",
    "    device=field_coil,\n",
    "    directory=None,\n",
    "    return_solutions=False,\n",
    "    keep_only_final_solution=True,\n",
    "    applied_fields=applied_field,\n",
    "    circulating_currents=circulating_currents,\n",
    "    field_units=\"Phi_0/um**2\",\n",
    "    current_units=\"uA\",\n",
    "    iterations=6,\n",
    "    coupled=True,\n",
    ")\n",
    "\n",
    "print(f\"Elapsed time: {time.time() - t0:.3f} seconds\")"
   ]
  },
  {
   "cell_type": "markdown",
   "id": "f39084fa",
   "metadata": {},
   "source": [
    "## Simulate mutual inductance without a sample"
   ]
  },
  {
   "cell_type": "code",
   "execution_count": null,
   "id": "09b5c397",
   "metadata": {},
   "outputs": [],
   "source": [
    "# squid = huber_without_field_coil()\n",
    "\n",
    "# layers = squid.layers\n",
    "# # layers[\"sample_layer\"] = sc.Layer(\"sample_layer\", Lambda=4, z0=-0.5)\n",
    "\n",
    "# films = squid.films\n",
    "# # films[\"sample\"] = sc.Polygon(\n",
    "# #     \"sample\",\n",
    "# #     layer=\"sample_layer\",\n",
    "# #     points=sample_points,\n",
    "# # )\n",
    "\n",
    "# abstract_regions = squid.abstract_regions\n",
    "# abstract_regions[\"bounding_box\"] = sc.Polygon(\n",
    "#     \"bounding_box\",\n",
    "#     layer=abstract_regions[\"bounding_box\"].layer,\n",
    "#     points=sample_points,\n",
    "# )\n",
    "\n",
    "# squid.layers = layers\n",
    "# squid.films = films"
   ]
  },
  {
   "cell_type": "code",
   "execution_count": null,
   "id": "079bfac1",
   "metadata": {},
   "outputs": [],
   "source": [
    "squid = huber_without_field_coil()\n",
    "\n",
    "Lambda = sc.Constant(1000)\n",
    "\n",
    "layers = squid.layers\n",
    "layers[\"sample_layer\"] = sc.Layer(\"sample_layer\", Lambda=Lambda, z0=sample_height)\n",
    "\n",
    "films = squid.films\n",
    "films[\"sample\"] = sc.Polygon(\n",
    "    \"sample\",\n",
    "    layer=\"sample_layer\",\n",
    "    points=sample_points,\n",
    ")\n",
    "\n",
    "abstract_regions = squid.abstract_regions\n",
    "abstract_regions[\"bounding_box\"] = sc.Polygon(\n",
    "    \"bounding_box\",\n",
    "    layer=abstract_regions[\"bounding_box\"].layer,\n",
    "    points=sample_points,\n",
    ")\n",
    "\n",
    "squid.layers = layers\n",
    "squid.films = films\n",
    "squid.abstract_regions = abstract_regions"
   ]
  },
  {
   "cell_type": "code",
   "execution_count": null,
   "id": "41146022",
   "metadata": {},
   "outputs": [],
   "source": [
    "squid.make_mesh(min_triangles=min_triangles, optimesh_steps=200)"
   ]
  },
  {
   "cell_type": "code",
   "execution_count": null,
   "id": "9fb4ce93",
   "metadata": {},
   "outputs": [],
   "source": [
    "ax = squid.plot_mesh()\n",
    "ax = squid.plot_polygons(ax=ax, color='k', lw=3, legend=False)\n",
    "_ = ax.set_title(\n",
    "    f\"Mesh: {squid.points.shape[0]} points, \"\n",
    "    f\"{squid.triangles.shape[0]} triangles\"\n",
    ")\n",
    "ax.figure.set_size_inches(8,8)"
   ]
  },
  {
   "cell_type": "code",
   "execution_count": null,
   "id": "df4ecd8c",
   "metadata": {},
   "outputs": [],
   "source": [
    "field_units = \"mT\"\n",
    "\n",
    "fc_fields = {}\n",
    "for layer in squid.layers_list:\n",
    "    fc_fields[layer.z0] = field_coil_solution.field_at_position(\n",
    "        squid.points,\n",
    "        zs=layer.z0,\n",
    "        units=field_units,\n",
    "        with_units=False,\n",
    "    )\n",
    "\n",
    "def field_coil_field(x, y, z, solution=field_coil_solution, units=\"mT\"):\n",
    "    return fc_fields[z]"
   ]
  },
  {
   "cell_type": "code",
   "execution_count": null,
   "id": "cb984df5",
   "metadata": {
    "scrolled": true
   },
   "outputs": [],
   "source": [
    "applied_field = field_coil_field\n",
    "\n",
    "circulating_currents = None\n",
    "\n",
    "solutions = sc.solve(\n",
    "    device=squid,\n",
    "    applied_field=applied_field,\n",
    "    circulating_currents=circulating_currents,\n",
    "    field_units=\"mT\",\n",
    "    current_units=\"uA\",\n",
    "    iterations=6,\n",
    "    coupled=True,\n",
    ")"
   ]
  },
  {
   "cell_type": "code",
   "execution_count": null,
   "id": "2b962e3f",
   "metadata": {},
   "outputs": [],
   "source": [
    "# records = []\n",
    "# for s in solutions:\n",
    "#     records.append(s.polygon_flux(units=\"Phi_0\", with_units=False))\n",
    "# df = pd.DataFrame.from_records(records)\n",
    "# df.index.name = \"Iteration\""
   ]
  },
  {
   "cell_type": "code",
   "execution_count": null,
   "id": "04d86a6e",
   "metadata": {},
   "outputs": [],
   "source": [
    "# df"
   ]
  },
  {
   "cell_type": "code",
   "execution_count": null,
   "id": "124d6f0f",
   "metadata": {},
   "outputs": [],
   "source": [
    "# fig, ax = plt.subplots(figsize=(8,6))\n",
    "# ax.grid(True)\n",
    "# for col in df.columns:\n",
    "#     ys = df[col].values\n",
    "#     ys = np.abs(np.diff(ys)[1:] / ys[1:-1])\n",
    "#     xs = np.arange(len(ys)) + 1\n",
    "#     ax.plot(xs, ys, 'o--', label=col)\n",
    "# ax.set_ylabel(\"Fractional change in flux\\n$(\\\\Phi_{(i)} -\\\\Phi_{(i-1)}) / \\\\Phi_{(i-1)}$\", fontsize=14)\n",
    "# ax.set_xlabel(\"Iteration\", fontsize=14)\n",
    "# ax.set_xticks(xs)\n",
    "# ax.set_yscale(\"log\")\n",
    "# ax.legend(loc=0)\n",
    "# fig.tight_layout()"
   ]
  },
  {
   "cell_type": "code",
   "execution_count": null,
   "id": "a54efe0b",
   "metadata": {},
   "outputs": [],
   "source": [
    "flux = solutions[-1].polygon_flux()\n",
    "I_circ = squid.ureg(field_coil_solution.circulating_currents[\"fc_center\"])\n",
    "print(f\"{flux['pl_hull'].to('Phi_0'):.3e~P}\")\n",
    "print(\n",
    "    f\"{(flux['pl_hull'] / I_circ).to('Phi_0/A'):.3f~P} = \"\n",
    "    f\"{(flux['pl_hull'] / I_circ).to('pH'):.3f~P}\"\n",
    ")"
   ]
  },
  {
   "cell_type": "code",
   "execution_count": null,
   "id": "72a40c44",
   "metadata": {
    "scrolled": false
   },
   "outputs": [],
   "source": [
    "for solution in solutions[-1:]:\n",
    "    fig, axes = sc.plot_fields(\n",
    "        solution,\n",
    "        layers=[\"sample_layer\", \"W2\", \"W1\"],\n",
    "        units=\"mT\",\n",
    "        cmap=\"cividis\",\n",
    "        figsize=(16, 6),\n",
    "        grid_shape=(400, 400),\n",
    "        cross_section_xs=None,\n",
    "        cross_section_angle=0,\n",
    "        # vmin=-0.4, vmax=0.4,\n",
    "        # symmetric_color_scale=True,\n",
    "        # share_color_scale=True,\n",
    "        # auto_range_cutoff=0.1,\n",
    "        vmin=-0.15, vmax=0.35,\n",
    "    )\n",
    "    for ax in axes:\n",
    "        squid.plot_polygons(ax=ax, legend=False, color='k', lw=0.75)\n",
    "        field_coil.plot_polygons(ax=ax, legend=False, color='k', lw=0.75)"
   ]
  },
  {
   "cell_type": "code",
   "execution_count": null,
   "id": "900d54f9",
   "metadata": {
    "scrolled": false
   },
   "outputs": [],
   "source": [
    "for solution in solutions[-1:]:\n",
    "    fig, axes = sc.plot_currents(\n",
    "        solution,\n",
    "        layers=[\"sample_layer\", \"W2\", \"W1\"],\n",
    "        figsize=(16, 6),\n",
    "        streamplot=True,\n",
    "        min_stream_amp=0.1,\n",
    "        units=\"mA/um\",\n",
    "        cross_section_xs=None,\n",
    "        cross_section_angle=0,\n",
    "        share_color_scale=False,\n",
    "        auto_range_cutoff=0.1,\n",
    "    )\n",
    "    for ax in axes:\n",
    "        squid.plot_polygons(ax=ax, legend=False, color='w', lw=0.75, alpha=0.75)\n",
    "        field_coil.plot_polygons(ax=ax, legend=False, color='w', lw=0.75, alpha=0.75)"
   ]
  },
  {
   "cell_type": "markdown",
   "id": "aa9f630c",
   "metadata": {},
   "source": [
    "## Now add a sample with $\\Lambda(x, y)=10\\,\\mu\\mathrm{m}$"
   ]
  },
  {
   "cell_type": "code",
   "execution_count": null,
   "id": "732be365",
   "metadata": {},
   "outputs": [],
   "source": [
    "squid = huber_without_field_coil()\n",
    "\n",
    "Lambda = sc.Constant(24)\n",
    "\n",
    "layers = squid.layers\n",
    "layers[\"sample_layer\"] = sc.Layer(\"sample_layer\", Lambda=Lambda, z0=sample_height)\n",
    "\n",
    "films = squid.films\n",
    "films[\"sample\"] = sc.Polygon(\n",
    "    \"sample\",\n",
    "    layer=\"sample_layer\",\n",
    "    points=sample_points,\n",
    ")\n",
    "\n",
    "abstract_regions = squid.abstract_regions\n",
    "abstract_regions[\"bounding_box\"] = sc.Polygon(\n",
    "    \"bounding_box\",\n",
    "    layer=abstract_regions[\"bounding_box\"].layer,\n",
    "    points=sample_points,\n",
    ")\n",
    "\n",
    "squid.layers = layers\n",
    "squid.films = films\n",
    "squid.abstract_regions = abstract_regions"
   ]
  },
  {
   "cell_type": "code",
   "execution_count": null,
   "id": "81fdd717",
   "metadata": {},
   "outputs": [],
   "source": [
    "squid.make_mesh(min_triangles=min_triangles, optimesh_steps=200)"
   ]
  },
  {
   "cell_type": "code",
   "execution_count": null,
   "id": "ba4e8945",
   "metadata": {},
   "outputs": [],
   "source": [
    "ax = squid.plot_mesh()\n",
    "ax = squid.plot_polygons(ax=ax, color='k', alpha=1, lw=3, legend=False)\n",
    "_ = ax.set_title(\n",
    "    f\"Mesh: {squid.points.shape[0]} points, \"\n",
    "    f\"{squid.triangles.shape[0]} triangles\"\n",
    ")\n",
    "ax.figure.set_size_inches(8,8)"
   ]
  },
  {
   "cell_type": "code",
   "execution_count": null,
   "id": "fa8c0a50",
   "metadata": {},
   "outputs": [],
   "source": [
    "field_units = \"mT\"\n",
    "\n",
    "fc_fields = {}\n",
    "for layer in squid.layers_list:\n",
    "    fc_fields[layer.z0] = field_coil_solution.field_at_position(\n",
    "        squid.points,\n",
    "        zs=layer.z0,\n",
    "        units=field_units,\n",
    "        with_units=False,\n",
    "    )\n",
    "\n",
    "def field_coil_field(x, y, z, solution=field_coil_solution, units=\"mT\"):\n",
    "    return fc_fields[z]"
   ]
  },
  {
   "cell_type": "code",
   "execution_count": null,
   "id": "2493e359",
   "metadata": {},
   "outputs": [],
   "source": [
    "cmap = \"cividis\"\n",
    "\n",
    "fig, axes = plt.subplots(1, len(fc_fields), figsize=(15, 5))\n",
    "\n",
    "vmin = -0.1\n",
    "vmax = 0.2\n",
    "\n",
    "vmin = -0.15\n",
    "vmax = 0.35\n",
    "\n",
    "v = np.linspace(vmin, vmax, 101)\n",
    "\n",
    "layers = squid.layers\n",
    "films = squid.films\n",
    "\n",
    "for ax, layer in zip(axes, [\"sample_layer\", \"W2\", \"W1\"]):\n",
    "    field = fc_fields[layers[layer].z0]\n",
    "    ax.set_aspect(\"equal\")\n",
    "    ax.set_title(layer)\n",
    "    im = ax.tricontourf(*squid.points.T, field, levels=v, cmap=cmap)\n",
    "    ax.set_xlabel(\"$x$ [$\\mu$m]\")\n",
    "    ax.set_ylabel(\"$y$ [$\\mu$m]\")\n",
    "    \n",
    "    squid.plot_polygons(ax=ax, lw=1, color=\"w\", legend=False)\n",
    "    \n",
    "cbar = fig.colorbar(im, ax=axes, orientation=\"horizontal\", fraction=0.1, pad=0.2)\n",
    "cbar.set_ticks(np.linspace(vmin, vmax, 7))\n",
    "cbar.set_label(\"$H_z$ / $I_\\\\mathrm{FC}$ [mT / mA]\", fontsize=16)"
   ]
  },
  {
   "cell_type": "code",
   "execution_count": null,
   "id": "b49174c2",
   "metadata": {
    "scrolled": true
   },
   "outputs": [],
   "source": [
    "applied_field = field_coil_field\n",
    "\n",
    "circulating_currents = None\n",
    "\n",
    "solutions = sc.solve(\n",
    "    device=squid,\n",
    "    applied_field=applied_field,\n",
    "    circulating_currents=circulating_currents,\n",
    "    field_units=\"mT\",\n",
    "    current_units=\"uA\",\n",
    "    iterations=6,\n",
    "    coupled=True,\n",
    ")"
   ]
  },
  {
   "cell_type": "code",
   "execution_count": null,
   "id": "c340a062",
   "metadata": {},
   "outputs": [],
   "source": [
    "# records = []\n",
    "# for s in solutions:\n",
    "#     records.append(s.polygon_flux(units=\"Phi_0\", with_units=False))\n",
    "# df = pd.DataFrame.from_records(records)\n",
    "# df.index.name = \"Iteration\""
   ]
  },
  {
   "cell_type": "code",
   "execution_count": null,
   "id": "65b4d269",
   "metadata": {},
   "outputs": [],
   "source": [
    "# df"
   ]
  },
  {
   "cell_type": "code",
   "execution_count": null,
   "id": "884cf261",
   "metadata": {},
   "outputs": [],
   "source": [
    "# fig, ax = plt.subplots(figsize=(8,6))\n",
    "# ax.grid(True)\n",
    "# for col in df.columns:\n",
    "#     ys = df[col].values\n",
    "#     ys = np.abs(np.diff(ys)[1:] / ys[1:-1])\n",
    "#     xs = np.arange(len(ys)) + 1\n",
    "#     ax.plot(xs, ys, 'o--', label=col)\n",
    "# ax.set_ylabel(\"Fractional change in flux\\n$(\\\\Phi_{(i)} -\\\\Phi_{(i-1)}) / \\\\Phi_{(i-1)}$\", fontsize=14)\n",
    "# ax.set_xlabel(\"Iteration\", fontsize=14)\n",
    "# ax.set_xticks(xs)\n",
    "# ax.set_yscale(\"log\")\n",
    "# ax.legend(loc=0)\n",
    "# fig.tight_layout()"
   ]
  },
  {
   "cell_type": "code",
   "execution_count": null,
   "id": "dbf333af",
   "metadata": {},
   "outputs": [],
   "source": [
    "flux = solutions[-1].polygon_flux()\n",
    "I_circ = squid.ureg(field_coil_solution.circulating_currents[\"fc_center\"])\n",
    "print(f\"{flux['pl_hull'].to('Phi_0'):.3f~P}\")\n",
    "print(\n",
    "    f\"{(flux['pl_hull'] / I_circ).to('Phi_0/A'):.3f~P} = \"\n",
    "    f\"{(flux['pl_hull'] / I_circ).to('pH'):.3f~P}\"\n",
    ")"
   ]
  },
  {
   "cell_type": "code",
   "execution_count": null,
   "id": "aa72bedb",
   "metadata": {},
   "outputs": [],
   "source": [
    "984 - 895"
   ]
  },
  {
   "cell_type": "code",
   "execution_count": null,
   "id": "fa2380b5",
   "metadata": {},
   "outputs": [],
   "source": [
    "for solution in solutions[-2:]:\n",
    "    fig, axes = sc.plot_fields(\n",
    "        solution,\n",
    "        layers=[\"sample_layer\", \"W2\", \"W1\"],\n",
    "        units=\"mT\",\n",
    "        cmap=\"cividis\",\n",
    "        figsize=(16, 6),\n",
    "        grid_shape=(400, 400),\n",
    "        cross_section_xs=None,\n",
    "        cross_section_angle=0,\n",
    "        # vmin=-0.4, vmax=0.4,\n",
    "        # symmetric_color_scale=True,\n",
    "        #share_color_scale=True,\n",
    "        #auto_range_cutoff=0.1,\n",
    "        vmin=-0.15, vmax=0.35,\n",
    "    )\n",
    "    for ax in axes:\n",
    "        squid.plot_polygons(ax=ax, legend=False, color='k', lw=0.75)\n",
    "        field_coil.plot_polygons(ax=ax, legend=False, color='k', lw=0.75)"
   ]
  },
  {
   "cell_type": "code",
   "execution_count": null,
   "id": "75a2d229",
   "metadata": {},
   "outputs": [],
   "source": [
    "for solution in solutions[-2:]:\n",
    "    fig, axes = sc.plot_currents(\n",
    "        solution,\n",
    "        layers=[\"sample_layer\", \"W2\", \"W1\"],\n",
    "        figsize=(16, 6),\n",
    "        streamplot=True,\n",
    "        min_stream_amp=0.1,\n",
    "        units=\"mA/um\",\n",
    "        cross_section_xs=None,\n",
    "        cross_section_angle=0,\n",
    "        share_color_scale=False,\n",
    "        auto_range_cutoff=None,\n",
    "    )\n",
    "    for ax in axes:\n",
    "        squid.plot_polygons(ax=ax, legend=False, color='w', lw=0.75, alpha=0.75)\n",
    "        field_coil.plot_polygons(ax=ax, legend=False, color='w', lw=0.75, alpha=0.75)"
   ]
  },
  {
   "cell_type": "code",
   "execution_count": null,
   "id": "edcad43f",
   "metadata": {},
   "outputs": [],
   "source": []
  },
  {
   "cell_type": "code",
   "execution_count": null,
   "id": "3c324df8",
   "metadata": {},
   "outputs": [],
   "source": [
    "img = plt.imread(\"huber-image.png\")\n",
    "scale = np.where(img[385][:,0] == 1)[0].size / 5 # pixels per micron\n",
    "\n",
    "origin = x0, y0 = (465, 610)"
   ]
  },
  {
   "cell_type": "code",
   "execution_count": null,
   "id": "b6eaf147",
   "metadata": {},
   "outputs": [],
   "source": [
    "polygons = {\n",
    "    name: scale * sc.geometry.rotate(points, 0)\n",
    "    for name, points in huber_geometry(interp_points=151).items()\n",
    "}"
   ]
  },
  {
   "cell_type": "code",
   "execution_count": null,
   "id": "3831c310",
   "metadata": {},
   "outputs": [],
   "source": [
    "fig, ax = plt.subplots(figsize=(8,8))\n",
    "ax.set_aspect(\"equal\")\n",
    "im = ax.imshow(img[:-200])\n",
    "ax.set_yticks([])\n",
    "ax.set_xticks([])\n",
    "\n",
    "for name, points in polygons.items():\n",
    "    if name in [\"pl_hull\", \"fc_shield\"]:\n",
    "        continue\n",
    "    if name in [\"fc_center\"]:\n",
    "        points = points[20:-25]\n",
    "    xs, ys = points.T\n",
    "    xs = -xs\n",
    "    xs = xs + x0\n",
    "    ys = ys + y0\n",
    "    ax.plot(xs, ys, color='w', alpha=0.8, lw=2)\n",
    "    \n",
    "_ = ax.set_xlim(0, img.shape[1]-1)"
   ]
  },
  {
   "cell_type": "code",
   "execution_count": null,
   "id": "e1b8ea36",
   "metadata": {},
   "outputs": [],
   "source": [
    "t1 = time.time()\n",
    "\n",
    "print(f\"Elapsed time: {(t1-t0)/60:.1f} minutes\")"
   ]
  },
  {
   "cell_type": "code",
   "execution_count": null,
   "id": "b3123603",
   "metadata": {},
   "outputs": [],
   "source": []
  }
 ],
 "metadata": {
  "kernelspec": {
   "display_name": "Python 3 (ipykernel)",
   "language": "python",
   "name": "python3"
  },
  "language_info": {
   "codemirror_mode": {
    "name": "ipython",
    "version": 3
   },
   "file_extension": ".py",
   "mimetype": "text/x-python",
   "name": "python",
   "nbconvert_exporter": "python",
   "pygments_lexer": "ipython3",
   "version": "3.9.5"
  }
 },
 "nbformat": 4,
 "nbformat_minor": 5
}
